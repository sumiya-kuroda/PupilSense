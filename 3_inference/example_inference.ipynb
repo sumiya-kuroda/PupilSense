{
 "cells": [
  {
   "cell_type": "code",
   "execution_count": null,
   "id": "d0fd160a",
   "metadata": {},
   "outputs": [],
   "source": [
    "import pickle\n",
    "from pathlib import Path\n",
    "import cv2\n",
    "import numpy as np\n",
    "import pandas as pd\n",
    "import time\n",
    "from pupilsense.inference.inference_pupilsense import Inference, get_center_and_radius\n",
    "import time\n",
    "from datetime import datetime"
   ]
  },
  {
   "cell_type": "code",
   "execution_count": 2,
   "id": "d701493c",
   "metadata": {},
   "outputs": [],
   "source": [
    "input_file_location = '/ceph/mrsic_flogel/public/projects/AtApSuKuSaRe_20250129_HFScohort2/TAA0000066/ses-022_date-20250509_protocol-t16/behav/Camera2_2025-05-09T14_27_37.mp4'"
   ]
  },
  {
   "cell_type": "code",
   "execution_count": 3,
   "id": "b0262f71",
   "metadata": {},
   "outputs": [
    {
     "name": "stdout",
     "output_type": "stream",
     "text": [
      "PupilSense Inference class is initialized!\n",
      "Using device: cuda\n",
      "Config file: /nfs/nhome/live/skuroda/Workstation2025/PupilSense/models/Config/config.yaml\n",
      "Model file: /nfs/nhome/live/skuroda/Workstation2025/PupilSense/models/model_final.pth\n"
     ]
    },
    {
     "name": "stderr",
     "output_type": "stream",
     "text": [
      "/nfs/nhome/live/skuroda/.conda/envs/pupilsense2/lib/python3.11/site-packages/fvcore/common/checkpoint.py:252: FutureWarning: You are using `torch.load` with `weights_only=False` (the current default value), which uses the default pickle module implicitly. It is possible to construct malicious pickle data which will execute arbitrary code during unpickling (See https://github.com/pytorch/pytorch/blob/main/SECURITY.md#untrusted-models for more details). In a future release, the default value for `weights_only` will be flipped to `True`. This limits the functions that could be executed during unpickling. Arbitrary objects will no longer be allowed to be loaded via this mode unless they are explicitly allowlisted by the user via `torch.serialization.add_safe_globals`. We recommend you start setting `weights_only=True` for any use case where you don't have full control of the loaded file. Please open an issue on GitHub for any issues related to this experimental feature.\n",
      "  return torch.load(f, map_location=torch.device(\"cpu\"))\n"
     ]
    }
   ],
   "source": [
    "# Set up params\n",
    "input_file_location = Path(input_file_location)\n",
    "\n",
    "saving_file_location = Path(input_file_location).parent / 'pupil_extracted'\n",
    "saving_file_location.mkdir(parents=False, exist_ok=True)\n",
    "_saving_file_location_predicted = saving_file_location / 'predicted'\n",
    "_saving_file_location_predicted.mkdir(parents=False, exist_ok=True)\n",
    "\n",
    "PSInference = Inference(config_path=None, model_path=None)"
   ]
  },
  {
   "cell_type": "code",
   "execution_count": 4,
   "id": "e33640d2",
   "metadata": {},
   "outputs": [
    {
     "name": "stdout",
     "output_type": "stream",
     "text": [
      "Loading eye video\n"
     ]
    },
    {
     "data": {
      "text/plain": [
       "True"
      ]
     },
     "execution_count": 4,
     "metadata": {},
     "output_type": "execute_result"
    }
   ],
   "source": [
    "# Load eye video\n",
    "print('Loading eye video')\n",
    "eye_video = cv2.VideoCapture()\n",
    "eye_video.open(str(input_file_location))"
   ]
  },
  {
   "cell_type": "code",
   "execution_count": 5,
   "id": "a6d3b04e",
   "metadata": {},
   "outputs": [],
   "source": [
    "i_frame = 1000"
   ]
  },
  {
   "cell_type": "code",
   "execution_count": 6,
   "id": "3f7691a8",
   "metadata": {},
   "outputs": [
    {
     "name": "stderr",
     "output_type": "stream",
     "text": [
      "/nfs/nhome/live/skuroda/.conda/envs/pupilsense2/lib/python3.11/site-packages/torch/functional.py:534: UserWarning: torch.meshgrid: in an upcoming release, it will be required to pass the indexing argument. (Triggered internally at ../aten/src/ATen/native/TensorShape.cpp:3595.)\n",
      "  return _VF.meshgrid(tensors, **kwargs)  # type: ignore[attr-defined]\n"
     ]
    }
   ],
   "source": [
    "eye_video.set(cv2.CAP_PROP_POS_FRAMES, i_frame)\n",
    "_, frame = eye_video.read()\n",
    "frame = cv2.cvtColor(frame, cv2.COLOR_RGB2BGR)\n",
    "\n",
    "# run prediction on video frame\n",
    "output = PSInference.predict(frame)\n",
    "instances = output[\"instances\"]\n",
    "boxes = instances.pred_boxes.tensor.cpu().numpy()"
   ]
  },
  {
   "cell_type": "code",
   "execution_count": 12,
   "id": "17cbf098",
   "metadata": {},
   "outputs": [],
   "source": [
    "classes = instances.pred_classes\n",
    "scores = instances.scores"
   ]
  },
  {
   "cell_type": "code",
   "execution_count": 13,
   "id": "f1c3273a",
   "metadata": {},
   "outputs": [],
   "source": [
    "instances_with_scores = [(i, score) for i, score in enumerate(scores)]\n",
    "instances_with_scores.sort(key=lambda x: x[1], reverse=True)"
   ]
  },
  {
   "cell_type": "code",
   "execution_count": 21,
   "id": "b008acfb",
   "metadata": {},
   "outputs": [],
   "source": [
    "index = instances_with_scores[0][0]"
   ]
  },
  {
   "cell_type": "code",
   "execution_count": 26,
   "id": "7fbaffd1",
   "metadata": {},
   "outputs": [],
   "source": [
    "pupil = boxes[index]"
   ]
  },
  {
   "cell_type": "code",
   "execution_count": 28,
   "id": "aacc105a",
   "metadata": {},
   "outputs": [],
   "source": [
    "pupil_info = get_center_and_radius(pupil)"
   ]
  },
  {
   "cell_type": "code",
   "execution_count": null,
   "id": "ad21e131",
   "metadata": {},
   "outputs": [],
   "source": [
    "print('Loading output pickle file')\n",
    "file_path = \"pupil_sense_output.p\"\n",
    "\n",
    "with open(file_path, \"rb\") as f:\n",
    "    data = pickle.load(f)"
   ]
  }
 ],
 "metadata": {
  "kernelspec": {
   "display_name": "Python 3",
   "language": "python",
   "name": "python3"
  },
  "language_info": {
   "codemirror_mode": {
    "name": "ipython",
    "version": 3
   },
   "file_extension": ".py",
   "mimetype": "text/x-python",
   "name": "python",
   "nbconvert_exporter": "python",
   "pygments_lexer": "ipython3",
   "version": "3.11.0"
  }
 },
 "nbformat": 4,
 "nbformat_minor": 5
}
